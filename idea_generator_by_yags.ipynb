{
 "cells": [
  {
   "cell_type": "code",
   "execution_count": 1,
   "id": "f91aed8e",
   "metadata": {},
   "outputs": [
    {
     "name": "stdout",
     "output_type": "stream",
     "text": [
      "Requirement already satisfied: openai in c:\\users\\extbaje\\documents\\prompt engineering exercise\\.venv\\lib\\site-packages (2.5.0)\n",
      "Collecting openai\n",
      "  Downloading openai-2.6.0-py3-none-any.whl.metadata (29 kB)\n",
      "Requirement already satisfied: python-dotenv in c:\\users\\extbaje\\documents\\prompt engineering exercise\\.venv\\lib\\site-packages (1.1.1)\n",
      "Requirement already satisfied: anyio<5,>=3.5.0 in c:\\users\\extbaje\\documents\\prompt engineering exercise\\.venv\\lib\\site-packages (from openai) (4.11.0)\n",
      "Requirement already satisfied: distro<2,>=1.7.0 in c:\\users\\extbaje\\documents\\prompt engineering exercise\\.venv\\lib\\site-packages (from openai) (1.9.0)\n",
      "Requirement already satisfied: httpx<1,>=0.23.0 in c:\\users\\extbaje\\documents\\prompt engineering exercise\\.venv\\lib\\site-packages (from openai) (0.28.1)\n",
      "Requirement already satisfied: jiter<1,>=0.10.0 in c:\\users\\extbaje\\documents\\prompt engineering exercise\\.venv\\lib\\site-packages (from openai) (0.11.1)\n",
      "Requirement already satisfied: pydantic<3,>=1.9.0 in c:\\users\\extbaje\\documents\\prompt engineering exercise\\.venv\\lib\\site-packages (from openai) (2.12.3)\n",
      "Requirement already satisfied: sniffio in c:\\users\\extbaje\\documents\\prompt engineering exercise\\.venv\\lib\\site-packages (from openai) (1.3.1)\n",
      "Requirement already satisfied: tqdm>4 in c:\\users\\extbaje\\documents\\prompt engineering exercise\\.venv\\lib\\site-packages (from openai) (4.67.1)\n",
      "Requirement already satisfied: typing-extensions<5,>=4.11 in c:\\users\\extbaje\\documents\\prompt engineering exercise\\.venv\\lib\\site-packages (from openai) (4.15.0)\n",
      "Requirement already satisfied: idna>=2.8 in c:\\users\\extbaje\\documents\\prompt engineering exercise\\.venv\\lib\\site-packages (from anyio<5,>=3.5.0->openai) (3.11)\n",
      "Requirement already satisfied: certifi in c:\\users\\extbaje\\documents\\prompt engineering exercise\\.venv\\lib\\site-packages (from httpx<1,>=0.23.0->openai) (2025.10.5)\n",
      "Requirement already satisfied: httpcore==1.* in c:\\users\\extbaje\\documents\\prompt engineering exercise\\.venv\\lib\\site-packages (from httpx<1,>=0.23.0->openai) (1.0.9)\n",
      "Requirement already satisfied: h11>=0.16 in c:\\users\\extbaje\\documents\\prompt engineering exercise\\.venv\\lib\\site-packages (from httpcore==1.*->httpx<1,>=0.23.0->openai) (0.16.0)\n",
      "Requirement already satisfied: annotated-types>=0.6.0 in c:\\users\\extbaje\\documents\\prompt engineering exercise\\.venv\\lib\\site-packages (from pydantic<3,>=1.9.0->openai) (0.7.0)\n",
      "Requirement already satisfied: pydantic-core==2.41.4 in c:\\users\\extbaje\\documents\\prompt engineering exercise\\.venv\\lib\\site-packages (from pydantic<3,>=1.9.0->openai) (2.41.4)\n",
      "Requirement already satisfied: typing-inspection>=0.4.2 in c:\\users\\extbaje\\documents\\prompt engineering exercise\\.venv\\lib\\site-packages (from pydantic<3,>=1.9.0->openai) (0.4.2)\n",
      "Requirement already satisfied: colorama in c:\\users\\extbaje\\documents\\prompt engineering exercise\\.venv\\lib\\site-packages (from tqdm>4->openai) (0.4.6)\n",
      "Downloading openai-2.6.0-py3-none-any.whl (1.0 MB)\n",
      "   ---------------------------------------- 0.0/1.0 MB ? eta -:--:--\n",
      "   ------------------------------- -------- 0.8/1.0 MB 6.7 MB/s eta 0:00:01\n",
      "   ---------------------------------------- 1.0/1.0 MB 5.4 MB/s  0:00:00\n",
      "Installing collected packages: openai\n",
      "  Attempting uninstall: openai\n",
      "    Found existing installation: openai 2.5.0\n",
      "    Uninstalling openai-2.5.0:\n",
      "      Successfully uninstalled openai-2.5.0\n",
      "Successfully installed openai-2.6.0\n",
      "Note: you may need to restart the kernel to use updated packages.\n"
     ]
    }
   ],
   "source": [
    "%pip install --upgrade openai python-dotenv"
   ]
  },
  {
   "cell_type": "code",
   "execution_count": 2,
   "id": "76689921",
   "metadata": {},
   "outputs": [
    {
     "name": "stdout",
     "output_type": "stream",
     "text": [
      "Model: gpt-3.5-turbo | API key present: True\n"
     ]
    }
   ],
   "source": [
    "import os, json, time, random\n",
    "from typing import List, Dict, Any\n",
    "from dotenv import load_dotenv\n",
    "from openai import OpenAI\n",
    "\n",
    "load_dotenv()\n",
    "\n",
    "import getpass\n",
    "os.environ['OPENAI_API_KEY'] = getpass.getpass('Enter API key: ')\n",
    "\n",
    "MODEL = os.getenv('OPENAI_MODEL', 'gpt-3.5-turbo')\n",
    "client = OpenAI()\n",
    "\n",
    "print('Model:', MODEL, '| API key present:', 'OPENAI_API_KEY' in os.environ)"
   ]
  },
  {
   "cell_type": "code",
   "execution_count": 6,
   "id": "0aae3245",
   "metadata": {},
   "outputs": [],
   "source": [
    "CATEGORIES = ['Product', 'Feature', 'Process', 'Growth', 'Ops', 'Reasearch', 'Content', 'Other']\n",
    "\n",
    "WEIGHT_USER_VALUE = 0.5\n",
    "WEIGHT_FEASIBILITY = 0.3\n",
    "WEIGHT_NOVELTY = 0.2\n",
    "\n",
    "DEFAULT_TEMPERATURE = 0.7\n",
    "DEFAULT_MAX_TOKENS = 1200\n",
    "\n",
    "RESPONSE_FORMAT = {\"type\": \"json_object\"}\n",
    "\n",
    "def normalize_score(x) -> int:\n",
    "    try:\n",
    "        return max(0, min(10, int(round(float(x)))))\n",
    "    except Exception:\n",
    "        return 0\n",
    "    \n",
    "def impact(user_value: int, feasibility: int, novelty: int) -> float:\n",
    "    return round((WEIGHT_USER_VALUE * user_value + \n",
    "                  WEIGHT_FEASIBILITY * feasibility + \n",
    "                  WEIGHT_NOVELTY * novelty) * 10, 1)\n",
    "\n",
    "def chat_json(messages: List[Dict[str, str]], \n",
    "              temperature: float = DEFAULT_TEMPERATURE, \n",
    "              max_tokens: int = DEFAULT_MAX_TOKENS) -> Dict[str, Any]:\n",
    "    \n",
    "    resp = client.chat.completions.create(\n",
    "        model=MODEL,\n",
    "        messages=messages,\n",
    "        temperature=temperature,\n",
    "        max_tokens=max_tokens,\n",
    "        response_format=RESPONSE_FORMAT,\n",
    "    )\n",
    "    return json.loads(resp.choices[0].message.content)"
   ]
  },
  {
   "cell_type": "code",
   "execution_count": null,
   "id": "15746246",
   "metadata": {},
   "outputs": [],
   "source": []
  }
 ],
 "metadata": {
  "kernelspec": {
   "display_name": ".venv (3.14.0)",
   "language": "python",
   "name": "python3"
  },
  "language_info": {
   "codemirror_mode": {
    "name": "ipython",
    "version": 3
   },
   "file_extension": ".py",
   "mimetype": "text/x-python",
   "name": "python",
   "nbconvert_exporter": "python",
   "pygments_lexer": "ipython3",
   "version": "3.14.0"
  }
 },
 "nbformat": 4,
 "nbformat_minor": 5
}
