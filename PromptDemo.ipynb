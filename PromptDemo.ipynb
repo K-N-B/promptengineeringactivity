{
  "cells": [
    {
      "cell_type": "markdown",
      "metadata": {
        "id": "1sh3mwl1xNfx"
      },
      "source": [
        "# Basic Prompting"
      ]
    },
    {
      "cell_type": "code",
      "execution_count": 8,
      "metadata": {
        "colab": {
          "base_uri": "https://localhost:8080/"
        },
        "id": "qA1fQ5LCJ95W",
        "outputId": "a3bd264f-26e5-4edc-af6a-329f98bb98ff"
      },
      "outputs": [
        {
          "name": "stdout",
          "output_type": "stream",
          "text": [
            "✅ API key set for this session.\n"
          ]
        }
      ],
      "source": [
        "from openai import OpenAI\n",
        "import os\n",
        "import textwrap\n",
        "import re\n",
        "\n",
        "os.environ[\"OPENAI_API_KEY\"] = input(\"Enter your OpenAI API key: \")\n",
        "print(\"✅ API key set for this session.\")\n",
        "\n",
        "client = OpenAI(api_key=os.getenv(\"OPENAI_API_KEY\"))\n",
        "text = \"\"\"\n",
        "The rapid advancement of artificial intelligence is creating both\n",
        "immense opportunities and significant challenges.\n",
        "On one hand, AI is revolutionizing industries like healthcare and finance\n",
        "by enabling more accurate diagnostics and personalized services.\n",
        "On the other hand, there are growing concerns about job displacement as AI\n",
        "automates tasks, and the ethical implications surrounding data privacy and\n",
        "algorithmic bias need to be addressed urgently.\n",
        "\"\"\""
      ]
    },
    {
      "cell_type": "code",
      "execution_count": 10,
      "metadata": {
        "id": "3k0pN_uLzHpt"
      },
      "outputs": [],
      "source": [
        "def pretty_print(title: str, content: str):\n",
        "    \"\"\"Neatly print formatted model output.\"\"\"\n",
        "    separator = \"=\" * 80\n",
        "    print(f\"\\n🧩 {title}\")\n",
        "    print(separator)\n",
        "\n",
        "    # Clean up and improve readability\n",
        "    text = content.strip()\n",
        "    text = re.sub(r\"\\s+\", \" \", text)  # normalize spaces\n",
        "    text = text.replace(\". \", \".\\n\")  # new line after sentences\n",
        "    text = text.replace(\"•\", \"\\n•\")   # separate bullet points\n",
        "    text = text.replace(\"1.\", \"\\n1.\")\n",
        "    text = text.replace(\"2.\", \"\\n2.\")\n",
        "    text = text.replace(\"3.\", \"\\n3.\")\n",
        "    text = text.replace(\"4.\", \"\\n4.\")\n",
        "    text = text.replace(\"5.\", \"\\n5.\")\n",
        "    text = text.replace(\"Summary:\", \"\\n\\n📘 Summary:\\n\")\n",
        "\n",
        "    # Wrap lines neatly\n",
        "    wrapped_text = textwrap.fill(text, width=80, replace_whitespace=False)\n",
        "\n",
        "    print(wrapped_text)\n",
        "    print(separator + \"\\n\")"
      ]
    },
    {
      "cell_type": "code",
      "execution_count": 13,
      "metadata": {
        "colab": {
          "base_uri": "https://localhost:8080/"
        },
        "id": "GaDISV_8yGQo",
        "outputId": "5296839a-9d03-4273-e313-cfb5777a9efc"
      },
      "outputs": [
        {
          "name": "stdout",
          "output_type": "stream",
          "text": [
            "\n",
            "🧩 Basic Prompting\n",
            "================================================================================\n",
            "AI advancements bring opportunities like improved healthcare and personalized\n",
            "services, but also challenges such as job displacement and ethical concerns\n",
            "around data privacy and bias.\n",
            "================================================================================\n",
            "\n"
          ]
        }
      ],
      "source": [
        "def summarize_text(text, length=\"short\"):\n",
        "   prompt = f\"Summarize the following text in a {length} form:\\n\\n{text}\"\n",
        "   response = client.chat.completions.create(\n",
        "       model=\"gpt-3.5-turbo\",\n",
        "       messages=[\n",
        "           {\"role\": \"system\", \"content\": \"You are a concise summarization assistant.\"},\n",
        "           {\"role\": \"user\", \"content\": prompt}\n",
        "       ]\n",
        "   )\n",
        "   return response.choices[0].message.content\n",
        "\n",
        "pretty_print(\"Basic Prompting\", summarize_text(text))"
      ]
    },
    {
      "cell_type": "markdown",
      "metadata": {
        "id": "a7XNyHHsxRUu"
      },
      "source": [
        "# Small Enhancements"
      ]
    },
    {
      "cell_type": "code",
      "execution_count": null,
      "metadata": {
        "colab": {
          "base_uri": "https://localhost:8080/"
        },
        "id": "ulJTvWqCuyjq",
        "outputId": "51fda412-0c26-4ae6-8046-49d78bf175b5"
      },
      "outputs": [
        {
          "name": "stdout",
          "output_type": "stream",
          "text": [
            "\n",
            "🧩 Small Enhancement\n",
            "================================================================================\n",
            "The quick development of artificial intelligence is bringing great potential in\n",
            "revolutionizing sectors like healthcare and finance through improved diagnostics\n",
            "and customization.\n",
            "However, it also presents big challenges, including job\n",
            "losses due to automation and pressing ethical concerns about data privacy and\n",
            "biased algorithms.\n",
            "================================================================================\n",
            "\n"
          ]
        }
      ],
      "source": [
        "# Small Enhancements\n",
        "def summarize_text(text, length=\"short\"):\n",
        "   prompt = f\"Summarize the following text in a {length} form:\\n\\n{text}\"\n",
        "   response = client.chat.completions.create(\n",
        "       model=\"gpt-3.5-turbo\",\n",
        "       temperature=1.5,  # higher = more creative\n",
        "       max_tokens=150,   # limit summary length\n",
        "       messages=[\n",
        "           {\"role\": \"system\", \"content\": \"You are a concise summarization assistant.\"},\n",
        "           {\"role\": \"user\", \"content\": prompt}\n",
        "       ]\n",
        "   )\n",
        "   return response.choices[0].message.content\n",
        "\n",
        "pretty_print(\"Small Enhancement\", summarize_text(text))"
      ]
    },
    {
      "cell_type": "markdown",
      "metadata": {
        "id": "1PWXsVld1Q_M"
      },
      "source": [
        "# Prompting Techniques"
      ]
    },
    {
      "cell_type": "markdown",
      "metadata": {
        "id": "9YqSmhvC1wHL"
      },
      "source": [
        "## Instruction Prompting"
      ]
    },
    {
      "cell_type": "code",
      "execution_count": null,
      "metadata": {
        "id": "mi0MfYe81UCi"
      },
      "outputs": [],
      "source": [
        "def instruction_prompting(text):\n",
        "    prompt = f\"Summarize the following text in 3 bullet points:\\n\\n{text}\"\n",
        "    response = client.chat.completions.create(\n",
        "        model=\"gpt-3.5-turbo\",\n",
        "        messages=[\n",
        "            {\"role\": \"system\", \"content\": \"You are a helpful summarization assistant.\"},\n",
        "            {\"role\": \"user\", \"content\": prompt},\n",
        "        ],\n",
        "    )\n",
        "    return response.choices[0].message.content\n"
      ]
    },
    {
      "cell_type": "code",
      "execution_count": 95,
      "metadata": {
        "colab": {
          "base_uri": "https://localhost:8080/"
        },
        "id": "ln3S0bZk15Vr",
        "outputId": "c0019c6e-2922-483e-d60e-4811ef45f05d"
      },
      "outputs": [
        {
          "name": "stdout",
          "output_type": "stream",
          "text": [
            "\n",
            "🧩 Instruction Prompting\n",
            "\n",
            "================================================================================\n",
            "- Artificial intelligence (AI) is significantly transforming sectors such as\n",
            "healthcare and finance by enhancing diagnostic accuracy and offering\n",
            "personalized services.\n",
            "- AI's progress raises concerns about job losses due to\n",
            "automation and the need for urgent discussions on ethical issues including data\n",
            "privacy and algorithmic bias.\n",
            "- While AI presents substantial opportunities for\n",
            "innovation and efficiency, it also poses serious challenges that need careful\n",
            "management.\n",
            "================================================================================\n",
            "\n"
          ]
        }
      ],
      "source": [
        "pretty_print(\"Instruction Prompting\\n\", instruction_prompting(text))"
      ]
    },
    {
      "cell_type": "markdown",
      "metadata": {
        "id": "8pgh3ih416EJ"
      },
      "source": [
        "## Role Prompting\n"
      ]
    },
    {
      "cell_type": "code",
      "execution_count": null,
      "metadata": {
        "id": "TgYexEB32L_5"
      },
      "outputs": [],
      "source": [
        "def role_prompting(text):\n",
        "    response = client.chat.completions.create(\n",
        "        model=\"gpt-3.5-turbo\",\n",
        "        messages=[\n",
        "            {\n",
        "                \"role\": \"system\",\n",
        "                \"content\": (\n",
        "                    \"You are an experienced journalist known for clear, factual writing. \"\n",
        "                    \"Rewrite this passage for a general audience.\"\n",
        "                ),\n",
        "            },\n",
        "            {\"role\": \"user\", \"content\": text},\n",
        "        ],\n",
        "    )\n",
        "    return response.choices[0].message.content\n"
      ]
    },
    {
      "cell_type": "code",
      "execution_count": 97,
      "metadata": {
        "colab": {
          "base_uri": "https://localhost:8080/"
        },
        "id": "97pC5SQR2Mq7",
        "outputId": "c95b39cd-4579-4823-c459-fa05cb27a60d"
      },
      "outputs": [
        {
          "name": "stdout",
          "output_type": "stream",
          "text": [
            "\n",
            "🧩 Role Prompting\n",
            "================================================================================\n",
            "The fast growth of artificial intelligence (AI) is bringing about major changes\n",
            "and challenges.\n",
            "AI is transforming fields such as healthcare and finance by\n",
            "improving diagnostic accuracy and offering customized services.\n",
            "However, as AI\n",
            "takes over more tasks, there are increasing worries about job losses.\n",
            "Additionally, urgent issues such as data privacy and biases in AI systems must\n",
            "be addressed to ensure they are used fairly and responsibly.\n",
            "================================================================================\n",
            "\n"
          ]
        }
      ],
      "source": [
        "pretty_print(\"Role Prompting\", role_prompting(text))"
      ]
    },
    {
      "cell_type": "markdown",
      "metadata": {
        "id": "j4LPaoHa2Oiw"
      },
      "source": [
        "## Contextual Prompting\n"
      ]
    },
    {
      "cell_type": "code",
      "execution_count": null,
      "metadata": {
        "id": "T7sqnG-N2NvV"
      },
      "outputs": [],
      "source": [
        "def contextual_prompting(text):\n",
        "    context = (\n",
        "        \"Audience: University students studying technology and ethics.\\n\"\n",
        "        \"Goal: Provide a short reflection (under 100 words) \"\n",
        "        \"connecting AI’s benefits and risks.\"\n",
        "    )\n",
        "    prompt = f\"{context}\\n\\nText:\\n{text}\"\n",
        "    response = client.chat.completions.create(\n",
        "        model=\"gpt-3.5-turbo\",\n",
        "        messages=[\n",
        "            {\"role\": \"system\", \"content\": \"You are an academic writing assistant.\"},\n",
        "            {\"role\": \"user\", \"content\": prompt},\n",
        "        ],\n",
        "    )\n",
        "    return response.choices[0].message.content"
      ]
    },
    {
      "cell_type": "code",
      "execution_count": 63,
      "metadata": {
        "colab": {
          "base_uri": "https://localhost:8080/"
        },
        "id": "bcna81Md2xKh",
        "outputId": "1738fe07-4b76-4f2e-b6ce-738622300bfd"
      },
      "outputs": [
        {
          "name": "stdout",
          "output_type": "stream",
          "text": [
            "\n",
            "🧩 Contextual Prompting\n",
            "================================================================================\n",
            "The dual-edged nature of AI's evolution presents a crucial junction for\n",
            "technological and ethical contemplation.\n",
            "As AI propels sectors such as\n",
            "healthcare and finance towards unprecedented efficiency, enhancing diagnostic\n",
            "accuracy and service personalization, it simultaneously poses significant risks.\n",
            "The specter of job displacement looms large as automation becomes more\n",
            "prevalent, and ethical dilemmas such as data privacy and algorithmic bias demand\n",
            "immediate and meticulous attention.\n",
            "This juxtaposition challenges us to balance\n",
            "innovation with responsibility, ensuring that AI's deployment benefits society\n",
            "while safeguarding against its potential harms.\n",
            "================================================================================\n",
            "\n"
          ]
        }
      ],
      "source": [
        "pretty_print(\"Contextual Prompting\", contextual_prompting(text))"
      ]
    },
    {
      "cell_type": "markdown",
      "metadata": {
        "id": "tIKpgo5v2xzM"
      },
      "source": [
        "## Format / Output Control"
      ]
    },
    {
      "cell_type": "code",
      "execution_count": null,
      "metadata": {
        "id": "GFT4qvSM2zq8"
      },
      "outputs": [],
      "source": [
        "def format_prompting(text):\n",
        "    prompt = f\"Summarize the following text and output JSON with keys: 'summary', 'keywords'.\\n\\n{text}\"\n",
        "    response = client.chat.completions.create(\n",
        "        model=\"gpt-3.5-turbo\",\n",
        "        messages=[\n",
        "            {\"role\": \"system\", \"content\": \"Return only valid JSON, no explanations.\"},\n",
        "            {\"role\": \"user\", \"content\": prompt},\n",
        "        ],\n",
        "    )\n",
        "    return response.choices[0].message.content"
      ]
    },
    {
      "cell_type": "code",
      "execution_count": 65,
      "metadata": {
        "colab": {
          "base_uri": "https://localhost:8080/"
        },
        "id": "Bhdg0RvN23Km",
        "outputId": "aff08736-b8f0-4ed5-b455-4819a4e9a1f0"
      },
      "outputs": [
        {
          "name": "stdout",
          "output_type": "stream",
          "text": [
            "\n",
            "🧩 Format / Output Control\n",
            "================================================================================\n",
            "{ \"summary\": \"Artificial intelligence is rapidly advancing, bringing both\n",
            "opportunities and challenges across various sectors.\n",
            "It enhances industries such\n",
            "as healthcare and finance with improved diagnostics and personalized services.\n",
            "However, it also raises concerns including job displacement and ethical issues\n",
            "like data privacy and algorithmic bias.\", \"keywords\": [\"artificial\n",
            "intelligence\", \"opportunities\", \"challenges\", \"healthcare\", \"finance\", \"job\n",
            "displacement\", \"data privacy\", \"algorithmic bias\"] }\n",
            "================================================================================\n",
            "\n"
          ]
        }
      ],
      "source": [
        "pretty_print(\"Format / Output Control\", format_prompting(text))"
      ]
    },
    {
      "cell_type": "markdown",
      "metadata": {
        "id": "BMz17A_423wN"
      },
      "source": [
        "## Interview Pattern Prompting"
      ]
    },
    {
      "cell_type": "code",
      "execution_count": null,
      "metadata": {
        "id": "G2EEK2vr28iq"
      },
      "outputs": [],
      "source": [
        "def interview_prompting():\n",
        "    prompt = (\n",
        "        \"Act as an interviewer exploring a candidate’s understanding of AI ethics.\\n\"\n",
        "        \"Ask three thoughtful questions, one at a time, and provide concise sample answers.\"\n",
        "    )\n",
        "    response = client.chat.completions.create(\n",
        "        model=\"gpt-3.5-turbo\",\n",
        "        messages=[{\"role\": \"user\", \"content\": prompt}],\n",
        "    )\n",
        "    return response.choices[0].message.content"
      ]
    },
    {
      "cell_type": "code",
      "execution_count": 67,
      "metadata": {
        "colab": {
          "base_uri": "https://localhost:8080/"
        },
        "id": "Cz_B4cbx29K5",
        "outputId": "ced513b7-7e94-40af-cce5-8cc6879392ea"
      },
      "outputs": [
        {
          "name": "stdout",
          "output_type": "stream",
          "text": [
            "\n",
            "🧩 Interview Pattern Prompting\n",
            "================================================================================\n",
            "**Question 1:** Can you discuss the principle of fairness in AI and explain how\n",
            "you would address potential biases in machine learning models during their\n",
            "development? **Sample Answer:** The principle of fairness in AI revolves around\n",
            "the creation and deployment of systems that treat all users and affected parties\n",
            "equitably.\n",
            "To address potential biases in machine learning models, I would begin\n",
            "by ensuring diversity in the training data, representing multiple demographics\n",
            "fairly.\n",
            "Additionally, regular auditing of the model's predictions for biases and\n",
            "implementing techniques like re-weighting the training examples or modifying the\n",
            "algorithm to compensate for imbalanced data can also help.\n",
            "Engaging stakeholders\n",
            "from varied backgrounds during the model development process is also crucial to\n",
            "understanding and mitigating biases effectively.\n",
            "--- Now, I'll proceed to the\n",
            "next question after your response or prompt.\n",
            "================================================================================\n",
            "\n"
          ]
        }
      ],
      "source": [
        "pretty_print(\"Interview Pattern Prompting\", interview_prompting())"
      ]
    },
    {
      "cell_type": "markdown",
      "metadata": {
        "id": "JY6_5gTu29ch"
      },
      "source": [
        "## Few Shot Prompting\n"
      ]
    },
    {
      "cell_type": "code",
      "execution_count": null,
      "metadata": {
        "id": "vIlGA3gu3CRg"
      },
      "outputs": [],
      "source": [
        "user_prompt = (\n",
        "    \"Determine the sentiment (Positive, Negative, or Mixed) of this text:\\n\"\n",
        "    \"'AI improves efficiency but risks bias.'\")\n",
        "\n",
        "def zero_shot(user_prompt):\n",
        "  response = client.chat.completions.create(\n",
        "      model=\"gpt-3.5-turbo\",\n",
        "      messages=[\n",
        "          {\"role\": \"system\", \"content\": \"You are a sentiment analysis assistant.\"},\n",
        "          {\"role\": \"user\", \"content\": user_prompt},\n",
        "      ],\n",
        "  )\n",
        "  return response.choices[0].message.content\n",
        "\n",
        "def few_shot_prompting(user_prompt):\n",
        "  examples = [\n",
        "      {\"role\": \"user\", \"content\": \"Text: 'AI improves efficiency but risks bias.' → Sentiment?\"},\n",
        "      {\"role\": \"assistant\", \"content\": \"Mixed\"},\n",
        "      {\"role\": \"user\", \"content\": \"Text: 'Automation frees workers from repetitive tasks.' → Sentiment?\"},\n",
        "      {\"role\": \"assistant\", \"content\": \"Positive\"},\n",
        "  ]\n",
        "  response = client.chat.completions.create(\n",
        "      model=\"gpt-3.5-turbo\",\n",
        "      messages=[\n",
        "          {\"role\": \"system\", \"content\": \"You are a sentiment analysis assistant.\"},\n",
        "          *examples,\n",
        "          {\"role\": \"user\", \"content\": user_prompt}\n",
        "      ],\n",
        "  )\n",
        "\n",
        "  return response.choices[0].message.content\n"
      ]
    },
    {
      "cell_type": "code",
      "execution_count": 86,
      "metadata": {
        "colab": {
          "base_uri": "https://localhost:8080/"
        },
        "id": "oae4P5Si3EbQ",
        "outputId": "34ff6a4b-fbad-4618-8b9d-cbf0da2f3fd3"
      },
      "outputs": [
        {
          "name": "stdout",
          "output_type": "stream",
          "text": [
            "\n",
            "🧩 Zero-Shot Prompting\n",
            "================================================================================\n",
            "The sentiment of the text \"AI improves efficiency but risks bias.\" is Mixed.\n",
            "The\n",
            "text acknowledges a positive aspect of AI (improving efficiency) but also\n",
            "mentions a negative aspect (risk of bias).\n",
            "================================================================================\n",
            "\n",
            "\n",
            "🧩 Few-Shot Prompting\n",
            "================================================================================\n",
            "Mixed\n",
            "================================================================================\n",
            "\n"
          ]
        }
      ],
      "source": [
        "pretty_print(\"Zero-Shot Prompting\", zero_shot(user_prompt))\n",
        "pretty_print(\"Few-Shot Prompting\", few_shot_prompting(user_prompt))"
      ]
    },
    {
      "cell_type": "markdown",
      "metadata": {
        "id": "Lr2mAsNb3IJc"
      },
      "source": [
        "## Chain-of-Thought Prompting"
      ]
    },
    {
      "cell_type": "code",
      "execution_count": null,
      "metadata": {
        "id": "bJx0HrtP3LEi"
      },
      "outputs": [],
      "source": [
        "def chain_of_thought_prompting():\n",
        "    prompt = (\n",
        "        \"AI creates both opportunities and risks. \"\n",
        "        \"Explain step by step how AI can boost productivity yet cause job losses, \"\n",
        "        \"then summarize your reasoning in two sentences.\"\n",
        "    )\n",
        "    response = client.chat.completions.create(\n",
        "        model=\"gpt-3.5-turbo\",\n",
        "        messages=[\n",
        "            {\"role\": \"system\", \"content\": \"Reason carefully before concluding.\"},\n",
        "            {\"role\": \"user\", \"content\": prompt},\n",
        "        ],\n",
        "    )\n",
        "    return response.choices[0].message.content"
      ]
    },
    {
      "cell_type": "code",
      "execution_count": 71,
      "metadata": {
        "colab": {
          "base_uri": "https://localhost:8080/"
        },
        "id": "rfPILt9u3Nun",
        "outputId": "47690ccf-30e4-45dc-dafd-4f26e7ba73fc"
      },
      "outputs": [
        {
          "name": "stdout",
          "output_type": "stream",
          "text": [
            "\n",
            "🧩 7. Chain-of-Thought Prompting\n",
            "================================================================================\n",
            "**Step by Step Explanation:** **Boosting Productivity with AI:** \n",
            "1.\n",
            "**Automation of Repetitive Tasks:** AI can carry out tasks that require\n",
            "consistency and repetition, such as data entry or processing queries.\n",
            "By\n",
            "automating these tasks, AI reduces the time and human error associated with\n",
            "them.\n",
            "\n",
            "2.\n",
            "**Enhanced Decision Making:** AI can analyze large volumes of data\n",
            "quickly, identifying patterns and insights that might not be obvious to human\n",
            "analysts.\n",
            "This capability supports better business decisions by providing deep\n",
            "insights and predictive analytics, leading to enhanced strategic planning.\n",
            "\n",
            "3.\n",
            "**Improvement in Quality and Speed of Services:** AI applications can deliver\n",
            "services such as customer support through chatbots, which are available 24/7,\n",
            "improving response times and customer satisfaction.\n",
            "In manufacturing, AI-driven\n",
            "robots can perform complex tasks with precision and speed, leading to higher\n",
            "quality outputs.\n",
            "\n",
            "4.\n",
            "**Innovation and Development:** AI aids in research and\n",
            "development by simulating and modeling scenarios that would be costly or\n",
            "dangerous to replicate physically.\n",
            "This accelerates innovation cycles in sectors\n",
            "like pharmaceuticals, automotive, and technology, generating new products and\n",
            "markets.\n",
            "**Causing Job Losses:** \n",
            "1.\n",
            "**Displacement of Workers:** As AI takes\n",
            "over repetitive and routine tasks, the demand for human labor in these roles\n",
            "decreases.\n",
            "This especially affects sectors with high routine task components,\n",
            "such as manufacturing or administrative jobs, leading to job losses or shifts in\n",
            "job descriptions that may require skills the current workforce does not possess.\n",
            "2.\n",
            "**Skill Gap:** The implementation of AI necessitates a shift in skill\n",
            "requirements.\n",
            "Jobs that require complex emotional interactions, creative\n",
            "thinking, or high-level strategic planning will still need human involvement,\n",
            "but workers who do not have these skills or cannot acquire them quickly enough\n",
            "may find themselves obsolete.\n",
            "\n",
            "3.\n",
            "**Economic Shifts:** As businesses invest more\n",
            "in AI and less in human labor, there might be an economic shift where profits\n",
            "are increasingly redistributed towards sectors and individuals heavily invested\n",
            "in AI technology.\n",
            "This could widen the wealth gap, as those who can adapt to or\n",
            "invest in AI benefit more than those who cannot.\n",
            "**Summary in Two Sentences:**\n",
            "AI's ability to automate tasks and process information rapidly can result in\n",
            "significant productivity gains, allowing businesses to operate more efficiently\n",
            "and innovate faster.\n",
            "However, this same capability can also lead to job\n",
            "displacements and economic shifts, where workers whose roles are automated away\n",
            "and who cannot adapt to new skill demands find themselves at a disadvantage.\n",
            "================================================================================\n",
            "\n"
          ]
        }
      ],
      "source": [
        "pretty_print(\"7. Chain-of-Thought Prompting\", chain_of_thought_prompting())"
      ]
    },
    {
      "cell_type": "markdown",
      "metadata": {
        "id": "NTBP20Co3PEQ"
      },
      "source": [
        "## Tree-of-thought Prompting"
      ]
    },
    {
      "cell_type": "code",
      "execution_count": null,
      "metadata": {
        "id": "L6qH2MjY3TJI"
      },
      "outputs": [],
      "source": [
        "def tree_of_thought_prompting():\n",
        "    prompt = (\n",
        "        \"Generate three different strategies for addressing AI bias. \"\n",
        "        \"For each, list pros and cons, then select the most effective strategy \"\n",
        "        \"with a brief justification.\"\n",
        "    )\n",
        "    response = client.chat.completions.create(\n",
        "        model=\"gpt-3.5-turbo\",\n",
        "        messages=[\n",
        "            {\"role\": \"system\", \"content\": \"Think broadly before deciding.\"},\n",
        "            {\"role\": \"user\", \"content\": prompt},\n",
        "        ],\n",
        "    )\n",
        "    return response.choices[0].message.content"
      ]
    },
    {
      "cell_type": "code",
      "execution_count": 75,
      "metadata": {
        "colab": {
          "base_uri": "https://localhost:8080/"
        },
        "id": "RkbCGJR14--C",
        "outputId": "14298181-6891-4168-b658-0ae3be2e095b"
      },
      "outputs": [
        {
          "name": "stdout",
          "output_type": "stream",
          "text": [
            "\n",
            "🧩 Tree-of-Thought Prompting\n",
            "================================================================================\n",
            "Addressing AI bias is essential for ensuring equitable outcomes and trustworthy\n",
            "AI systems.\n",
            "Below, three strategies are discussed along with their pros and\n",
            "cons, concluding with a selection of the most potentially effective strategy.\n",
            "### Strategy 1: Diversifying Training Data #### Pros: \n",
            "1.\n",
            "\n",
            "**Comprehensive\n",
            "Coverage\n",
            "**: By including a wide range of data from diverse demographics, the AI\n",
            "model can better understand and represent global diversity.\n",
            "\n",
            "2.\n",
            "\n",
            "**Reduction in\n",
            "Bias\n",
            "**: More varied data helps mitigate the risk of biased outcomes as the\n",
            "training data better reflects the real-world scenarios.\n",
            "#### Cons: \n",
            "1.\n",
            "\n",
            "**Data\n",
            "Accessibility\n",
            "**: Obtaining diverse and comprehensive data sets can be\n",
            "challenging due to privacy issues, data availability, and logistical\n",
            "constraints.\n",
            "\n",
            "2.\n",
            "\n",
            "**Cost and Time Intensive\n",
            "**: Collecting, cleaning, and\n",
            "ensuring the diversity of data sets require significant resources and time.\n",
            "###\n",
            "Strategy 2: Implementing Algorithmic Audits #### Pros: \n",
            "1.\n",
            "\n",
            "**Transparency\n",
            "**:\n",
            "Conducting regular audits can help reveal hidden biases and ensure algorithms\n",
            "are performing as intended without discriminatory outcomes.\n",
            "\n",
            "2.\n",
            "\n",
            "**Continual\n",
            "Improvement\n",
            "**: Regular feedback from audits allows for ongoing improvements,\n",
            "adapting to new data and behaviors over time.\n",
            "#### Cons: \n",
            "1.\n",
            "\n",
            "**Requires\n",
            "Expertise\n",
            "**: Effective audits require deep knowledge of the domain, as well as\n",
            "intricacies in data science and AI ethics.\n",
            "\n",
            "2.\n",
            "\n",
            "**Potentially Incomplete\n",
            "**:\n",
            "Audits might not catch all biases, especially in high-dimensional, complex\n",
            "models.\n",
            "### Strategy 3: Developing Bias Mitigation Algorithms #### Pros: \n",
            "1.\n",
            "**Proactive Approach\n",
            "**: Directly tackles issues of bias in AI models by\n",
            "adjusting algorithms to compensate for identified biases.\n",
            "\n",
            "2.\n",
            "\n",
            "**Scalable and\n",
            "Flexible\n",
            "**: Can be adapted for different AI models and applications, offering a\n",
            "versatile solution to handle various forms of biases.\n",
            "#### Cons: \n",
            "1.\n",
            "**Complexity in Implementation\n",
            "**: Designing and integrating effective bias\n",
            "mitigation algorithms can be complex, requiring significant research and\n",
            "testing.\n",
            "\n",
            "2.\n",
            "\n",
            "**Potential Overcorrection\n",
            "**: There's a risk that attempts to\n",
            "adjust for bias might lead to new biases or adversely affect the model's overall\n",
            "performance.\n",
            "### Selection of the Most Effective Strategy: \n",
            "**Implementing\n",
            "Algorithmic Audits\n",
            "** appears to be the most effective strategy for addressing\n",
            "AI bias.\n",
            "This approach balances the need for continual assessment with\n",
            "actionable insights that lead to concrete improvements in AI systems.\n",
            "Unlike\n",
            "diversifying training data alone, which may still inherit unseen biases or face\n",
            "collection issues, audits provide a systematic method to evaluate and correct\n",
            "the AI’s behavior.\n",
            "Similarly, while developing bias mitigation algorithms is\n",
            "proactive, its complexity and potential for overcorrection make it less feasible\n",
            "as a standalone solution.\n",
            "#### Justification: Audits not only ensure compliance\n",
            "with ethical standards but also build public and institutional trust as they\n",
            "provide transparency into the AI systems' operational mechanisms.\n",
            "Frequent\n",
            "audits carried out by interdisciplinary teams can effectively monitor and\n",
            "mitigate biases, making it a robust, adaptable mechanism for maintaining\n",
            "fairness in AI applications.\n",
            "Furthermore, an auditing strategy naturally\n",
            "incorporates elements of the other strategies by potentially highlighting areas\n",
            "where data diversity or algorithmic adjustments are needed, fostering a holistic\n",
            "approach to bias mitigation.\n",
            "================================================================================\n",
            "\n"
          ]
        }
      ],
      "source": [
        "pretty_print(\"Tree-of-Thought Prompting\", tree_of_thought_prompting())"
      ]
    }
  ],
  "metadata": {
    "colab": {
      "provenance": [],
      "toc_visible": true
    },
    "kernelspec": {
      "display_name": "env (3.14.0)",
      "language": "python",
      "name": "python3"
    },
    "language_info": {
      "codemirror_mode": {
        "name": "ipython",
        "version": 3
      },
      "file_extension": ".py",
      "mimetype": "text/x-python",
      "name": "python",
      "nbconvert_exporter": "python",
      "pygments_lexer": "ipython3",
      "version": "3.14.0"
    }
  },
  "nbformat": 4,
  "nbformat_minor": 0
}
